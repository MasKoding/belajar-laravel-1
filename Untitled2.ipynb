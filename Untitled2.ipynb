{
 "cells": [
  {
   "cell_type": "code",
   "execution_count": 1,
   "id": "a50f460d-ccac-49ce-8cd1-f5af01463ce7",
   "metadata": {},
   "outputs": [],
   "source": [
    "import array"
   ]
  },
  {
   "cell_type": "code",
   "execution_count": 2,
   "id": "52e0bf91-7098-4bb2-a8cd-5e127b29dcf8",
   "metadata": {},
   "outputs": [],
   "source": [
    "x=array.array(\"i\",[1,2,3,4,5])"
   ]
  },
  {
   "cell_type": "code",
   "execution_count": 3,
   "id": "43d65e3a-6b2a-4982-9dde-c041d40e29e7",
   "metadata": {},
   "outputs": [
    {
     "name": "stdout",
     "output_type": "stream",
     "text": [
      "array('i', [1, 2, 3, 4, 5])\n"
     ]
    }
   ],
   "source": [
    "print(x)"
   ]
  },
  {
   "cell_type": "markdown",
   "id": "1dd92c1b-9773-4053-b444-9b96cdc63793",
   "metadata": {},
   "source": [
    "Struktur data linear adalah jenis struktur data yang elemen-elemen nilai di dalamnya disusun secara berurutan atau linear"
   ]
  },
  {
   "cell_type": "code",
   "execution_count": 8,
   "id": "5896da4b-8769-47d5-a686-a239a1af6cf1",
   "metadata": {},
   "outputs": [],
   "source": [
    "var_list = [n for n in [1,2,3,4,5]]"
   ]
  },
  {
   "cell_type": "code",
   "execution_count": 9,
   "id": "eb0293b2-6df3-468a-a2cc-84576d003e5e",
   "metadata": {},
   "outputs": [
    {
     "name": "stdout",
     "output_type": "stream",
     "text": [
      "[1, 2, 3, 4, 5]\n"
     ]
    }
   ],
   "source": [
    "print(var_list)"
   ]
  },
  {
   "cell_type": "code",
   "execution_count": 11,
   "id": "637f1487-c158-432a-a754-9d81c73a129a",
   "metadata": {},
   "outputs": [
    {
     "name": "stdout",
     "output_type": "stream",
     "text": [
      "1\n",
      "4357940416\n",
      "2\n",
      "4357940448\n",
      "3\n",
      "4357940480\n"
     ]
    }
   ],
   "source": [
    "var_list = [1,2,3]\n",
    "for i in var_list:\n",
    "    print(i)\n",
    "    print(id(i))"
   ]
  },
  {
   "cell_type": "code",
   "execution_count": 13,
   "id": "0a3b3331-5726-48bc-bebb-c0c079b9f274",
   "metadata": {},
   "outputs": [
    {
     "name": "stdout",
     "output_type": "stream",
     "text": [
      "Current element 1 is 2\n",
      "Current element 2 is 3\n",
      "Current element 3 is 4\n",
      "Current element 4 is 5\n",
      "Current element 5 is None\n"
     ]
    }
   ],
   "source": [
    "var_array = [1,2,3,4,5]\n",
    "for i in range(len(var_array)):\n",
    "    current_element= var_array[i]\n",
    "    next_index = i+1\n",
    "    if(next_index<len(var_array)):\n",
    "        next_element = var_array[next_index]\n",
    "    else:\n",
    "        next_element = None\n",
    "    print(f\"Current element {current_element} is {next_element}\")\n"
   ]
  },
  {
   "cell_type": "code",
   "execution_count": 15,
   "id": "279d3fa3-26c8-4b90-8b07-8f64db344ca4",
   "metadata": {},
   "outputs": [
    {
     "name": "stdout",
     "output_type": "stream",
     "text": [
      "89\n"
     ]
    }
   ],
   "source": [
    "var_arr = [1,7,2,89,3]\n",
    "left_pointer = var_arr[0]\n",
    "\n",
    "for i in range(1,len(var_arr)):\n",
    "    right_pointer = var_arr[i]\n",
    "    if(right_pointer>left_pointer):\n",
    "        left_pointer = right_pointer\n",
    "print(left_pointer)\n",
    "\n"
   ]
  },
  {
   "cell_type": "code",
   "execution_count": 17,
   "id": "0b3b69f0-0ee9-475d-809a-b1a87afc9fcb",
   "metadata": {},
   "outputs": [
    {
     "name": "stdout",
     "output_type": "stream",
     "text": [
      "600\n"
     ]
    }
   ],
   "source": [
    "import numpy as np\n",
    "import sys\n",
    "var_arr = np.array([[1,2,3],[4,5,6],[7,8,9]])\n",
    "print(sys.getsizeof(var_arr)*len(var_arr))\n",
    "\n"
   ]
  },
  {
   "cell_type": "code",
   "execution_count": null,
   "id": "e883cd4b-17cd-4a9b-8b33-40028d58d9d5",
   "metadata": {},
   "outputs": [],
   "source": [
    "var_m = [[5,0],[1,-2]]"
   ]
  }
 ],
 "metadata": {
  "kernelspec": {
   "display_name": "Python 3 (ipykernel)",
   "language": "python",
   "name": "python3"
  },
  "language_info": {
   "codemirror_mode": {
    "name": "ipython",
    "version": 3
   },
   "file_extension": ".py",
   "mimetype": "text/x-python",
   "name": "python",
   "nbconvert_exporter": "python",
   "pygments_lexer": "ipython3",
   "version": "3.11.4"
  }
 },
 "nbformat": 4,
 "nbformat_minor": 5
}
